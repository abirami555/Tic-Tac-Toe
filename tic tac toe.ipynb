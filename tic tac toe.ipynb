{
 "cells": [
  {
   "cell_type": "code",
   "execution_count": null,
   "id": "1acb3186",
   "metadata": {},
   "outputs": [
    {
     "name": "stdout",
     "output_type": "stream",
     "text": [
      "Welcome to Tic-Tac-Toe!\n",
      "- - -\n",
      "- - -\n",
      "- - -\n"
     ]
    }
   ],
   "source": [
    "import numpy as np\n",
    "\n",
    "# Function to create the initial Tic-Tac-Toe board\n",
    "def create_board():\n",
    "    return np.array([['-', '-', '-'],\n",
    "                     ['-', '-', '-'],\n",
    "                     ['-', '-', '-']])\n",
    "\n",
    "# Function to check for a win\n",
    "def check_winner(board, player):\n",
    "    # Check rows, columns, and diagonals for the same player's symbol\n",
    "    for i in range(3):\n",
    "        if all(board[i, :] == player) or \\\n",
    "           all(board[:, i] == player) or \\\n",
    "           all(np.diag(board) == player) or \\\n",
    "           all(np.diag(np.fliplr(board)) == player):\n",
    "            return True\n",
    "    return False\n",
    "\n",
    "# Function to check if the board is full\n",
    "def board_full(board):\n",
    "    return not any('-' in row for row in board)\n",
    "\n",
    "# Function to print the current board\n",
    "def print_board(board):\n",
    "    for row in board:\n",
    "        print(' '.join(row))\n",
    "\n",
    "# Function to play the game\n",
    "def play_game():\n",
    "    board = create_board()\n",
    "    players = ['X', 'O']\n",
    "    turn = 0\n",
    "\n",
    "    print(\"Welcome to Tic-Tac-Toe!\")\n",
    "    print_board(board)\n",
    "\n",
    "    while True:\n",
    "        player = players[turn % 2]\n",
    "\n",
    "        # Get user input for row and column\n",
    "        row = int(input(f\"Player {player}, enter row (0, 1, 2): \"))\n",
    "        col = int(input(f\"Player {player}, enter column (0, 1, 2): \"))\n",
    "\n",
    "        if board[row, col] == '-':\n",
    "            board[row, col] = player\n",
    "            print_board(board)\n",
    "\n",
    "            # Check for a win\n",
    "            if check_winner(board, player):\n",
    "                print(f\"Player {player} wins!\")\n",
    "                break\n",
    "            # Check for a tie\n",
    "            elif board_full(board):\n",
    "                print(\"It's a tie!\")\n",
    "                break\n",
    "            else:\n",
    "                turn += 1\n",
    "        else:\n",
    "            print(\"That cell is already occupied. Try again.\")\n",
    "\n",
    "# Play the game\n",
    "play_game()\n"
   ]
  },
  {
   "cell_type": "code",
   "execution_count": null,
   "id": "3889756a-1b4b-4c90-ad94-1a0618eaf006",
   "metadata": {},
   "outputs": [],
   "source": []
  }
 ],
 "metadata": {
  "kernelspec": {
   "display_name": "Python 3 (ipykernel)",
   "language": "python",
   "name": "python3"
  },
  "language_info": {
   "codemirror_mode": {
    "name": "ipython",
    "version": 3
   },
   "file_extension": ".py",
   "mimetype": "text/x-python",
   "name": "python",
   "nbconvert_exporter": "python",
   "pygments_lexer": "ipython3",
   "version": "3.11.5"
  }
 },
 "nbformat": 4,
 "nbformat_minor": 5
}
